{
 "cells": [
  {
   "attachments": {},
   "cell_type": "markdown",
   "id": "1040b101",
   "metadata": {},
   "source": [
    "# 2. Computing fluid phase equilibria with the FE-ANN EoS\n",
    "\n",
    "This notebook exemplifies how to use the FE-ANN EoS to the critical point and phase equilibria.\n",
    "\n",
    "The FE-ANN EoS model systems interacting throgh the Mie Potential:\n",
    "\n",
    "$$ U^{Mie} = \\mathcal{C}_{Mie} \\epsilon \\left[ \\left(\\frac{\\sigma}{r}\\right)^{\\lambda_r} -  \\left(\\frac{\\sigma}{r}\\right)^{\\lambda_a} \\right], \\quad \\mathcal{C}_{Mie} = \\frac{\\lambda_r}{\\lambda_r- \\lambda_a} \\left( \\frac{\\lambda_r}{\\lambda_a}\\right)^{\\frac{\\lambda_a}{\\lambda_r - \\lambda_a}} $$ \n",
    "\n",
    "Here, $\\epsilon$ represents the potential well depth, $\\sigma$ is the effective monomer diameter, $r$ is the centre-to-centre distance between two Mie monomers, and $\\lambda_r$ and $\\lambda_a$ are the repulsive and attractive exponent, respectively. The FE-ANN EoS uses dimensionless Lennard-Jones units (equivalently to setting $\\epsilon$, $\\sigma$, the Boltzmann constant $k_b$ and the monomer mass $m$ to 1).\n",
    "\n",
    "The FE-ANN EoS describes the residual Helmholtz free energy as follows.\n",
    "\n",
    "$$ A^{res} = ANN(\\alpha_{vdw}, \\rho, 1/T) - ANN(\\alpha_{vdw}, \\rho=0.0, 1/T) $$\n",
    "\n",
    "Where, $A^{res}$ is the dimensionless residual Helmholtz free energy, $\\rho$ is the dimensionless density, $T$ is the dimensionless temperature and $\\alpha_{vdw}$ is defined a the Mie fluid as follows:\n",
    "\n",
    "$$ \\alpha_{vdw} = \\mathcal{C}_{Mie} \\left[ \\left(\\frac{1}{\\lambda_a-3} \\right) - \\left(\\frac{1}{\\lambda_r-3} \\right) \\right]$$\n",
    "\n",
    "**Note: all expressions and quantities in this notebook assume dimensionless units ( $\\epsilon = \\sigma = k_b = m = 1.$)**\n",
    "\n",
    "To start using the FE-ANN EoS, firstly, we import the required packages."
   ]
  },
  {
   "cell_type": "code",
   "execution_count": null,
   "id": "236e9552",
   "metadata": {},
   "outputs": [],
   "source": [
    "import numpy as np\n",
    "import matplotlib.pyplot as plt\n",
    "from scipy.optimize import root\n",
    "import tensorflow as tf\n",
    "# HelmholtzModel_Tinv is the custom TensorFlow model class, only needed if creating a new model from scratch\n",
    "from helmholtz_model_Tinv import HelmholtzModel_Tinv\n",
    "\n",
    "# Setting up tensorflow for float64\n",
    "PRECISSION = 'float64'\n",
    "type_np = np.float64\n",
    "type_tf = tf.float64\n",
    "tf.keras.backend.set_floatx(PRECISSION)"
   ]
  },
  {
   "cell_type": "markdown",
   "id": "0555292b",
   "metadata": {},
   "source": [
    "The pre-saved model is loaded using the `tf.keras.models.load_model` function."
   ]
  },
  {
   "cell_type": "code",
   "execution_count": 2,
   "id": "ce61dfd4",
   "metadata": {},
   "outputs": [],
   "source": [
    "# Loading saved model using tensorflow\n",
    "model_path = '../fe-ann-eos'\n",
    "model = tf.keras.models.load_model(model_path, compile=False)"
   ]
  },
  {
   "cell_type": "markdown",
   "id": "be93f7d9",
   "metadata": {},
   "source": [
    "The EoS is ready to be used. This notebook will exemplify calculations for the Lennard-Jones fluid ($\\lambda_r=12$ and $\\lambda_a=6$). First, the $\\alpha_{vdw}$ parameter is computed."
   ]
  },
  {
   "cell_type": "code",
   "execution_count": 3,
   "id": "20eca57c",
   "metadata": {},
   "outputs": [],
   "source": [
    "# Computing α for the Lennard-Jones fluid\n",
    "lr = 12.\n",
    "la = 6.\n",
    "c_alpha = (lr / (lr-la)) * (lr/la)**(la/(lr-la))\n",
    "alpha_aux = c_alpha*(1./(la-3) - 1./(lr-3))"
   ]
  },
  {
   "cell_type": "markdown",
   "id": "92a715f5",
   "metadata": {},
   "source": [
    "### Critical point calculation\n",
    "\n",
    "The critical point is computed by solving the following system of equations.\n",
    "\n",
    "$$ \\left( \\frac{\\partial P}{\\partial V} \\right)_{T}  = -\\rho^2 \\left( \\frac{\\partial P}{\\partial \\rho} \\right)_{T} = 0 $$\n",
    "\n",
    "$$ \\left( \\frac{\\partial^2 P}{\\partial V^2} \\right)_{T} = 2\\rho^3 \\left( \\frac{\\partial P}{\\partial \\rho} \\right)_{T} + \\rho^4 \\left( \\frac{\\partial^2 P}{\\partial \\rho^2} \\right)_{T} = 0$$ \n",
    "\n",
    "These two equations are included in the `fobj_crit` function, which can be solved using the `root` function from the `scipy.optimize` package."
   ]
  },
  {
   "cell_type": "code",
   "execution_count": 4,
   "id": "e42da855",
   "metadata": {},
   "outputs": [
    {
     "name": "stdout",
     "output_type": "stream",
     "text": [
      "Computed Critical Point\n",
      "Critical Density:  0.304\n",
      "Critical Temperature:  1.3303\n",
      "Critical Pressure:  0.1392\n"
     ]
    },
    {
     "name": "stderr",
     "output_type": "stream",
     "text": [
      "2023-02-08 14:19:04.089908: W tensorflow/core/platform/profile_utils/cpu_utils.cc:128] Failed to get CPU frequency: 0 Hz\n"
     ]
    }
   ],
   "source": [
    "# Objetive function to compute critical point.\n",
    "def fobj_crit(inc, alpha, model):\n",
    "    alpha = np.array(alpha, ndmin=1)\n",
    "    rhoad, Tad = np.split(np.asarray(inc), 2)\n",
    "    d2press = model.d2pressure_drho2(alpha, rhoad, Tad)\n",
    "    \n",
    "    press_res, dpress_res, d2press_res = d2press\n",
    "    \n",
    "    press_res = press_res.numpy().flatten()\n",
    "    dpress_res = dpress_res.numpy().flatten()\n",
    "    d2press_res = d2press_res.numpy().flatten()\n",
    "    \n",
    "    press_ideal = rhoad * Tad\n",
    "    dpress_ideal = 1. * Tad\n",
    "    d2press_ideal = 0.0\n",
    "\n",
    "    press = press_res + press_ideal\n",
    "    dpress = dpress_res + dpress_ideal\n",
    "    d2press = d2press_res + d2press_ideal\n",
    "    \n",
    "    fo = np.hstack([dpress, 2*dpress/rhoad + d2press])\n",
    "    return fo\n",
    "\n",
    "# initial guess\n",
    "Tc0 = 1.3\n",
    "rhoc0 = 0.3\n",
    "# solving fobj_crit\n",
    "sol_crit = root(fobj_crit, x0=[rhoc0, Tc0], args=(alpha_aux, model))\n",
    "rhoc_model, Tc_model = sol_crit.x\n",
    "\n",
    "# computing critical pressure\n",
    "Pc_model = model.pressure([alpha_aux], [rhoc_model], [Tc_model]).numpy()[0] + rhoc_model * Tc_model\n",
    "\n",
    "print(\"Computed Critical Point\")\n",
    "print(\"Critical Density: \", np.round(rhoc_model, 4))\n",
    "print(\"Critical Temperature: \", np.round(Tc_model, 4))\n",
    "print(\"Critical Pressure: \", np.round(Pc_model, 4))"
   ]
  },
  {
   "cell_type": "markdown",
   "id": "db5556fd",
   "metadata": {},
   "source": [
    "### Phase envelope calculation\n",
    "\n",
    "Phase equilibrium is checked by a thermal (temperature), mechanical (pressure) and chemical (chemical potential) equilibrium between a liquid and a vapour phase, as shown below.\n",
    "\n",
    "$$ T^{liq} = T^{vap}$$\n",
    "$$ P^{liq} = P^{vap}$$\n",
    "$$ \\mu^{liq} = \\mu^{vap}$$\n",
    "\n",
    "The `fobj_vle` is solved at a given temperature to check that the pressure and chemical potential of the phases are equal."
   ]
  },
  {
   "cell_type": "code",
   "execution_count": 5,
   "id": "6bc2eba8",
   "metadata": {},
   "outputs": [
    {
     "name": "stdout",
     "output_type": "stream",
     "text": [
      "First point VLE results\n",
      "Equilibrium liquid density at T=0.6:  0.90296\n",
      "Equilibrium vapour density at T=0.6:  0.00042\n"
     ]
    }
   ],
   "source": [
    "# Objetive function to compute VLE.\n",
    "# This function compute the difference between the pressure and chemical potential each phase.\n",
    "def fobj_vle(rhoad, alpha, Tad, model):\n",
    "    press_ideal = rhoad * Tad\n",
    "    press_res = model.pressure(alpha, rhoad, Tad).numpy().flatten()\n",
    "    press = press_res + press_ideal\n",
    "\n",
    "    aideal = Tad*(np.log(rhoad) - 1.)\n",
    "    # daideal_drho = Tad/rhoad\n",
    "    # chempot_ideal = aideal + rhoad*daideal_drho\n",
    "    chempot_ideal = aideal + Tad\n",
    "    chempot_res = model.chemical_potential(alpha, rhoad, Tad).numpy().flatten()\n",
    "    chempot = chempot_res + chempot_ideal\n",
    "    fo = np.hstack([np.diff(press), np.diff(chempot)])   \n",
    "    return fo\n",
    "\n",
    "# number of points to compute the phase envelope\n",
    "n = 200\n",
    "rhol = np.zeros(n) # array to store liquid density\n",
    "rhov = np.zeros(n) # array to store vapour density\n",
    "T = np.linspace(0.6, Tc_model, n) # array with the saturation temperatures\n",
    "\n",
    "# solving for the first point at a low temperature\n",
    "i = 0 \n",
    "alpha = np.ones(2)*alpha_aux\n",
    "Tad = np.ones(2)*T[i]\n",
    "# initial guesses for the vapour and liquid phase, respectively\n",
    "rhoad0 = np.array([1e-5, 0.9])\n",
    "sol_vle = root(fobj_vle, x0=rhoad0, args=(alpha, Tad, model))\n",
    "rhov[i], rhol[i] = sol_vle.x\n",
    "\n",
    "print(\"First point VLE results\")\n",
    "print(\"Equilibrium liquid density at T={Tsat}: \".format(Tsat=T[i]), np.round(rhol[i], 5))\n",
    "print(\"Equilibrium vapour density at T={Tsat}: \".format(Tsat=T[i]), np.round(rhov[i], 5))\n",
    "\n",
    "# solving VLE for other temperatues using previous solution as initial guess\n",
    "for i in range(1, n):\n",
    "    Tad = np.ones(2)*T[i]\n",
    "    rhoad0 = np.array([rhov[i-1], rhol[i-1]])\n",
    "    sol_vle = root(fobj_vle, x0=rhoad0, args=(alpha, Tad, model))\n",
    "    rhov[i], rhol[i] = sol_vle.x\n",
    "    \n",
    "# Computing saturation pressure\n",
    "alpha_n = alpha_aux*np.ones(n)\n",
    "pressure_l = model.pressure(alpha_n, rhol, T) + rhol * T\n",
    "pressure_v = model.pressure(alpha_n, rhov, T) +rhov * T\n",
    "# Computing vaporisation enthalpy \n",
    "enthalpy_l =  model.enthalpy(alpha_n, rhol, T)\n",
    "enthalpy_v =  model.enthalpy(alpha_n, rhov, T)\n",
    "hvap = enthalpy_v - enthalpy_l"
   ]
  },
  {
   "cell_type": "markdown",
   "id": "ad1d49c1",
   "metadata": {},
   "source": [
    " Finally, the computed saturation properties are plotted below."
   ]
  },
  {
   "cell_type": "code",
   "execution_count": 6,
   "id": "4a1843cd",
   "metadata": {},
   "outputs": [
    {
     "data": {
      "text/plain": [
       "Text(0, 0.5, '$\\\\Delta H^{vap}$')"
      ]
     },
     "execution_count": 6,
     "metadata": {},
     "output_type": "execute_result"
    },
    {
     "data": {
      "image/png": "[encoded data removed]",
      "text/plain": [
       "<Figure size 900x300 with 3 Axes>"
      ]
     },
     "metadata": {},
     "output_type": "display_data"
    }
   ],
   "source": [
    "fig = plt.figure(figsize=(9, 3), constrained_layout=True)\n",
    "ax1 = fig.add_subplot(131)\n",
    "ax1.plot(rhov, T, color='k')\n",
    "ax1.plot(rhol, T, color='k')\n",
    "ax1.plot(rhoc_model, Tc_model, '*',color='k')\n",
    "ax1.set_xlim([-1e-1, 1.0])\n",
    "ax1.set_ylim([0.6, 1.5])\n",
    "ax1.set_xlabel(r\"$\\rho$\")\n",
    "ax1.set_ylabel(r\"$T$\")\n",
    "\n",
    "ax2 = fig.add_subplot(132)\n",
    "ax2.semilogy(1./T, pressure_l, color='k')\n",
    "ax2.semilogy(1./Tc_model, Pc_model, '*', color='k')\n",
    "# ax1.set_xlim([-1e-1, 1.0])\n",
    "# ax1.set_ylim([0.6, 1.5])\n",
    "ax2.set_xlabel(r\"$1/T$\")\n",
    "ax2.set_ylabel(r\"$P^{sat}$\")\n",
    "\n",
    "ax3 = fig.add_subplot(133)\n",
    "ax3.plot(T, hvap, color='k')\n",
    "ax3.plot(Tc_model, [0.0], '*', color='k', clip_on=False)\n",
    "ax3.set_xlim([0.6, 1.5])\n",
    "ax3.set_ylim([0., 8.])\n",
    "ax3.set_xlabel(r\"$T$\")\n",
    "ax3.set_ylabel(r\"$\\Delta H^{vap}$\")"
   ]
  }
 ],
 "metadata": {
  "kernelspec": {
   "display_name": "tf-cpu",
   "language": "python",
   "name": "tf-cpu"
  },
  "language_info": {
   "codemirror_mode": {
    "name": "ipython",
    "version": 3
   },
   "file_extension": ".py",
   "mimetype": "text/x-python",
   "name": "python",
   "nbconvert_exporter": "python",
   "pygments_lexer": "ipython3",
   "version": "3.8.13 | packaged by conda-forge | (default, Mar 25 2022, 06:04:14) \n[Clang 12.0.1 ]"
  }
 },
 "nbformat": 4,
 "nbformat_minor": 5
}
